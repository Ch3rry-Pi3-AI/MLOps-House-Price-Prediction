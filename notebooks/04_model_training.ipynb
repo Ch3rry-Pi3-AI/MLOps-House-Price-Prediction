{
 "cells": [
  {
   "cell_type": "markdown",
   "id": "c53ae45d",
   "metadata": {},
   "source": [
    "## **Model Training**\n",
    "\n",
    "### **Table of Contents**\n",
    "- [Introduction](#introduction)\n",
    "- [Step 1: Import libraries](#step-1-import-libraries)\n",
    "- [Step 2: Configure logging](#step-2-configure-logging)\n",
    "- [Step 3: Configure MLflow tracking](#step-3-configure-mlflow-tracking)\n",
    "- [Step 4: Load data and train/test split](#step-4-load-data-and-traintest-split)\n",
    "- [Step 5: Feature selection with RFE (XGBoost)](#step-5-feature-selection-with-rfe-xgboost)\n",
    "- [Step 6: (Optional) Re-assert MLflow experiment](#step-6-optional-re-assert-mlflow-experiment)\n",
    "- [Step 7: Define models and hyperparameter grids](#step-7-define-models-and-hyperparameter-grids)\n",
    "- [Step 8: Evaluation helper (GridSearchCV + metrics)](#step-8-evaluation-helper-gridsearchcv--metrics)\n",
    "- [Step 9: Train, compare, and log models](#step-9-train-compare-and-log-models)\n",
    "- [Step 10: Visualise model metrics](#step-10-visualise-model-metrics)\n",
    "- [Step 11: Select best model and save config](#step-11-select-best-model-and-save-config)\n",
    "\n",
    "<a id=\"introduction\"></a>\n",
    "### **Introduction**\n",
    "\n",
    "This notebook trains and compares several **regression models** for house price prediction.  \n",
    "It includes **feature selection** (RFE with XGBoost), **hyperparameter search** (GridSearchCV), **metric reporting** (R², RMSE, MAE), optional **MLflow tracking**, and saving a **model configuration YAML** with the selected features.\n",
    "\n",
    "<a id=\"step-1-import-libraries\"></a>\n",
    "### **Step 1: Import libraries**\n",
    "\n",
    "Load core packages for modelling, evaluation, feature selection, tracking, and plotting:\n",
    "- `pandas`, `numpy`\n",
    "- `sklearn` (models, GridSearchCV, metrics, RFE)\n",
    "- `xgboost` (XGBRegressor)\n",
    "- `mlflow` (experiment tracking)\n",
    "- `yaml`, `os`, `logging`, `matplotlib`"
   ]
  },
  {
   "cell_type": "code",
   "execution_count": 1,
   "id": "9fcd29ac",
   "metadata": {},
   "outputs": [],
   "source": [
    "# -------------------------------------------------------------\n",
    "# Step 1: Import libraries\n",
    "# -------------------------------------------------------------\n",
    "\n",
    "# Core scientific stack\n",
    "import pandas as pd\n",
    "import numpy as np\n",
    "\n",
    "# Model persistence\n",
    "import joblib\n",
    "\n",
    "# Typing and base estimator class\n",
    "from typing import Dict, Any, Union      \n",
    "from sklearn.base import BaseEstimator   \n",
    "\n",
    "# Experiment tracking\n",
    "import mlflow\n",
    "import mlflow.sklearn\n",
    "\n",
    "# Scikit-learn: model selection, models, metrics, feature selection\n",
    "from sklearn.model_selection import train_test_split, GridSearchCV\n",
    "from sklearn.ensemble import RandomForestRegressor, GradientBoostingRegressor\n",
    "from sklearn.linear_model import LinearRegression\n",
    "from sklearn.metrics import mean_absolute_error, mean_squared_error, r2_score\n",
    "from sklearn.feature_selection import RFE\n",
    "\n",
    "# Gradient boosting (XGBoost)\n",
    "from xgboost import XGBRegressor\n",
    "import xgboost as xgb\n",
    "\n",
    "# Utilities and helpers\n",
    "import yaml\n",
    "import os\n",
    "import logging\n",
    "from contextlib import nullcontext\n",
    "\n",
    "# Visualisation\n",
    "import matplotlib.pyplot as plt"
   ]
  },
  {
   "cell_type": "markdown",
   "id": "fcb341f8",
   "metadata": {},
   "source": [
    "<a id=\"step-2-configure-logging\"></a>\n",
    "### **Step 2: Configure logging**\n",
    "\n",
    "Set a basic logging configuration to surface progress messages during training and evaluation."
   ]
  },
  {
   "cell_type": "code",
   "execution_count": 2,
   "id": "2d035593",
   "metadata": {},
   "outputs": [],
   "source": [
    "# -------------------------------------------------------------\n",
    "# Step 2: Configure logging\n",
    "# -------------------------------------------------------------\n",
    "\n",
    "# Configure logging to show INFO-level messages and above\n",
    "logging.basicConfig(level=logging.INFO)\n",
    "\n",
    "# Create a logger instance for this notebook/module\n",
    "logger = logging.getLogger()"
   ]
  },
  {
   "cell_type": "markdown",
   "id": "8a7d4118",
   "metadata": {},
   "source": [
    "<a id=\"step-3-configure-mlflow-tracking\"></a>\n",
    "### **Step 3: Configure MLflow tracking**\n",
    "\n",
    "Point MLflow at a local tracking server and set the experiment name so that runs, parameters, metrics, and models are recorded."
   ]
  },
  {
   "cell_type": "code",
   "execution_count": 3,
   "id": "17851422",
   "metadata": {},
   "outputs": [
    {
     "data": {
      "text/plain": [
       "<Experiment: artifact_location='/mlflow/artifacts/1', creation_time=1759504050238, experiment_id='1', last_update_time=1759504050238, lifecycle_stage='active', name='House Price Prediction Experiment', tags={'mlflow.experimentKind': 'custom_model_development'}>"
      ]
     },
     "execution_count": 3,
     "metadata": {},
     "output_type": "execute_result"
    }
   ],
   "source": [
    "# -------------------------------------------------------------\n",
    "# Step 3: Configure MLflow tracking\n",
    "# -------------------------------------------------------------\n",
    "\n",
    "# Define where MLflow should log experiments (local server on port 5555)\n",
    "mlflow_tracking_uri = \"http://127.0.0.1:5555\"\n",
    "\n",
    "# Point MLflow to this tracking server\n",
    "mlflow.set_tracking_uri(mlflow_tracking_uri)\n",
    "\n",
    "# Set or create the experiment to group related runs\n",
    "mlflow.set_experiment(\"House Price Prediction Experiment\")"
   ]
  },
  {
   "cell_type": "markdown",
   "id": "4328f15a",
   "metadata": {},
   "source": [
    "<a id=\"step-4-load-data-and-traintest-split\"></a>\n",
    "### **Step 4: Load data and train/test split**\n",
    "\n",
    "Load engineered features from `../data/processed/engineered_features.csv`, split into features/target (`price`) and create train/test partitions with a fixed `random_state` for reproducibility."
   ]
  },
  {
   "cell_type": "code",
   "execution_count": 4,
   "id": "8bfa7aa8",
   "metadata": {},
   "outputs": [],
   "source": [
    "# -------------------------------------------------------------\n",
    "# Step 4: Load data and train/test split\n",
    "# -------------------------------------------------------------\n",
    "\n",
    "# Path to the processed dataset containing engineered features\n",
    "data_path = '../data/processed/engineered_features.csv'  # Update path if needed\n",
    "\n",
    "# Load the dataset into a DataFrame\n",
    "data = pd.read_csv(data_path)\n",
    "\n",
    "# Separate predictors (X) from the target variable (y)\n",
    "X = data.drop('price', axis=1)\n",
    "y = data['price']\n",
    "\n",
    "# Split into training and test sets (80/20 split for evaluation)\n",
    "X_train, X_test, y_train, y_test = train_test_split(\n",
    "    X, y, test_size=0.2, random_state=5901\n",
    ")"
   ]
  },
  {
   "cell_type": "markdown",
   "id": "fba5e229",
   "metadata": {},
   "source": [
    "<a id=\"step-5-feature-selection-with-rfe-xgboost\"></a>\n",
    "### **Step 5: Feature selection with RFE (XGBoost)**\n",
    "\n",
    "Fit an XGBoost model and use **Recursive Feature Elimination** to select the **top 10** predictive features.  \n",
    "Print selected vs ignored features and **filter** `X_train`/`X_test` to those selected columns for downstream experiments.  \n",
    "Store the selection in `selected_features_dict` for later persistence."
   ]
  },
  {
   "cell_type": "code",
   "execution_count": 5,
   "id": "ea62c9b8",
   "metadata": {},
   "outputs": [
    {
     "name": "stdout",
     "output_type": "stream",
     "text": [
      "✅ Top 10 Selected Features by RFE:\n",
      " - 0\n",
      " - 1\n",
      " - 3\n",
      " - 4\n",
      " - 5\n",
      " - 9\n",
      " - 10\n",
      " - 12\n",
      " - 13\n",
      " - 14\n",
      "\n",
      "❌ Features Ignored by RFE:\n",
      " - 2\n",
      " - 6\n",
      " - 7\n",
      " - 8\n",
      " - 11\n",
      " - 15\n"
     ]
    }
   ],
   "source": [
    "# -------------------------------------------------------------\n",
    "# Step 5: Feature selection with RFE (XGBoost)\n",
    "# -------------------------------------------------------------\n",
    "\n",
    "# Initialise an XGBoost regressor (consistent with later modelling)\n",
    "xgb_model = XGBRegressor(objective='reg:squarederror')\n",
    "\n",
    "# Fit model on the training data to use inside RFE\n",
    "xgb_model.fit(X_train, y_train)\n",
    "\n",
    "# Recursive Feature Elimination (RFE):\n",
    "# - Iteratively fits the model and removes less important features\n",
    "rfe_selector = RFE(estimator=xgb_model, n_features_to_select=10)\n",
    "rfe_selector.fit(X_train, y_train)\n",
    "\n",
    "# Identify the top 10 selected and the ignored features\n",
    "rfe_selected_features = X.columns[rfe_selector.support_]\n",
    "rfe_ignored_features = X.columns[~rfe_selector.support_]\n",
    "\n",
    "print(\"✅ Top 10 Selected Features by RFE:\")\n",
    "for feature in rfe_selected_features:\n",
    "    print(f\" - {feature}\")\n",
    "\n",
    "print(\"\\n❌ Features Ignored by RFE:\")\n",
    "for feature in rfe_ignored_features:\n",
    "    print(f\" - {feature}\")\n",
    "\n",
    "# Store the selected features for saving into model config later\n",
    "selected_features_dict = {\n",
    "    'rfe': list(rfe_selected_features)\n",
    "}\n",
    "\n",
    "# Filter training and test sets to use only the selected features\n",
    "X_train = X_train[rfe_selected_features]\n",
    "X_test = X_test[rfe_selected_features]"
   ]
  },
  {
   "cell_type": "markdown",
   "id": "60d52ad0",
   "metadata": {},
   "source": [
    "<a id=\"step-6-optional-re-assert-mlflow-experiment\"></a>\n",
    "### **Step 6: (Optional) Re-assert MLflow experiment**\n",
    "\n",
    "Optionally re-set the MLflow tracking URI and experiment (useful in interactive sessions)."
   ]
  },
  {
   "cell_type": "code",
   "execution_count": 6,
   "id": "056abaee",
   "metadata": {},
   "outputs": [],
   "source": [
    "# -------------------------------------------------------------\n",
    "# Step 6: (Optional) Re-assert MLflow experiment\n",
    "# -------------------------------------------------------------\n",
    "\n",
    "# In case the MLflow connection is lost or re-run in an interactive session,\n",
    "# this block ensures the tracking URI and experiment are correctly re-set.\n",
    "if mlflow_tracking_uri:\n",
    "    mlflow.set_tracking_uri(mlflow_tracking_uri)  # Point to MLflow server\n",
    "    mlflow.set_experiment(\"House Price Prediction Experiment\")  # Use the same experiment name\n"
   ]
  },
  {
   "cell_type": "markdown",
   "id": "3249e12b",
   "metadata": {},
   "source": [
    "<a id=\"step-7-define-models-and-hyperparameter-grids\"></a>\n",
    "### **Step 7: Define models and hyperparameter grids**\n",
    "\n",
    "Prepare a dictionary of candidate regressors:\n",
    "- Linear Regression\n",
    "- Random Forest\n",
    "- Gradient Boosting\n",
    "- XGBoost\n",
    "\n",
    "Attach concise **grid searches** for tree-based models and learning-boosting parameters."
   ]
  },
  {
   "cell_type": "code",
   "execution_count": 7,
   "id": "96df1663",
   "metadata": {},
   "outputs": [],
   "source": [
    "# -------------------------------------------------------------\n",
    "# Step 7: Define models and hyperparameter grids\n",
    "# -------------------------------------------------------------\n",
    "\n",
    "# Dictionary of candidate models to compare\n",
    "models = {\n",
    "    'LinearRegression': LinearRegression(),                                         # Baseline linear regression\n",
    "    'RandomForest': RandomForestRegressor(random_state=5901),                       # Bagged decision trees\n",
    "    'GradientBoosting': GradientBoostingRegressor(random_state=5901),               # Boosted decision trees\n",
    "    'XGBoost': xgb.XGBRegressor(objective='reg:squarederror', random_state=5901)    # XGBoost regressor\n",
    "}\n",
    "\n",
    "# Hyperparameter grids for each model to tune using GridSearchCV\n",
    "model_grids = {\n",
    "    'LinearRegression': {},                         # No hyperparameters to tune here\n",
    "\n",
    "    'RandomForest': {\n",
    "        'n_estimators': [100, 200, 300],            # Number of trees\n",
    "        'max_depth': [None, 10, 20, 30],            # Maximum depth of each tree\n",
    "        'min_samples_split': [2, 5, 10],            # Minimum samples required to split\n",
    "        'min_samples_leaf': [1, 2, 4],              # Minimum samples required at a leaf node\n",
    "        'max_features': [None, 'sqrt', 'log2'],     # Number of features to consider at each split\n",
    "    },\n",
    "\n",
    "    'GradientBoosting': {\n",
    "        'n_estimators': [100, 250, 500],            # Number of boosting stages\n",
    "        'learning_rate': [0.1, 0.05, 0.01],         # Shrinkage applied at each step\n",
    "        'max_depth': [3, 5, 10],                    # Depth of individual trees\n",
    "        'subsample': [0.8, 1.0],                    # Fraction of samples used for fitting\n",
    "        'min_samples_split': [2, 5],                # Min samples to split a node\n",
    "        'min_samples_leaf': [1, 2]                  # Min samples at a leaf\n",
    "    },\n",
    "\n",
    "    'XGBoost': {\n",
    "        'n_estimators': [100, 250, 500],            # Number of boosting rounds\n",
    "        'learning_rate': [0.1, 0.05, 0.01],         # Step size shrinkage\n",
    "        'max_depth': [3, 5, 10],                    # Maximum depth of a tree\n",
    "        'subsample': [0.8, 1.0],                    # Fraction of samples for training\n",
    "        'colsample_bytree': [0.8, 1.0],             # Fraction of features per tree\n",
    "        'gamma': [0, 1]                             # Minimum loss reduction for a split\n",
    "    }\n",
    "}"
   ]
  },
  {
   "cell_type": "markdown",
   "id": "9df9040c",
   "metadata": {},
   "source": [
    "<a id=\"step-8-evaluation-helper-gridsearchcv--metrics\"></a>\n",
    "### **Step 8: Evaluation helper (GridSearchCV + metrics)**\n",
    "\n",
    "Define `evaluate_model_with_gridsearch`:\n",
    "- Runs GridSearchCV when a grid is provided (3-fold, scoring = R²)  \n",
    "- Fits, predicts on test set  \n",
    "- Returns **MAE**, **MSE**, **RMSE**, **R²**, the **best model**, and **best params**"
   ]
  },
  {
   "cell_type": "code",
   "execution_count": 8,
   "id": "5544f57a",
   "metadata": {},
   "outputs": [
    {
     "name": "stdout",
     "output_type": "stream",
     "text": [
      "MLflow tracking URI: http://127.0.0.1:5555\n"
     ]
    }
   ],
   "source": [
    "# -------------------------------------------------------------\n",
    "# Step 8: Evaluation helper (GridSearchCV + metrics)\n",
    "# -------------------------------------------------------------\n",
    "\n",
    "def evaluate_model_with_gridsearch(\n",
    "    name: str,\n",
    "    model: BaseEstimator,\n",
    "    grid: Dict[str, list],\n",
    "    X_train: pd.DataFrame,\n",
    "    y_train: pd.Series,\n",
    "    X_test: pd.DataFrame,\n",
    "    y_test: pd.Series\n",
    ") -> Dict[str, Union[float, BaseEstimator, Dict[str, Any]]]:\n",
    "    \"\"\"\n",
    "    Fit a model with optional GridSearchCV hyperparameter tuning,\n",
    "    evaluate it on the test set, and return key metrics and the fitted model.\n",
    "\n",
    "    Parameters\n",
    "    ----------\n",
    "    name : str\n",
    "        Name of the model (for logging and identification).\n",
    "    model : BaseEstimator\n",
    "        A scikit-learn compatible estimator.\n",
    "    grid : dict\n",
    "        Hyperparameter grid for GridSearchCV. If empty, the model is trained without tuning.\n",
    "    X_train : pd.DataFrame\n",
    "        Training feature set.\n",
    "    y_train : pd.Series\n",
    "        Training target values.\n",
    "    X_test : pd.DataFrame\n",
    "        Test feature set.\n",
    "    y_test : pd.Series\n",
    "        Test target values.\n",
    "\n",
    "    Returns\n",
    "    -------\n",
    "    dict\n",
    "        Dictionary containing:\n",
    "        \n",
    "        - 'mae' : float  \n",
    "          Mean Absolute Error on test set.  \n",
    "        - 'mse' : float  \n",
    "          Mean Squared Error on test set.  \n",
    "        - 'rmse' : float  \n",
    "          Root Mean Squared Error on test set.  \n",
    "        - 'r2' : float  \n",
    "          R² score on test set.  \n",
    "        - 'model' : BaseEstimator  \n",
    "          The best fitted model (with tuned or default parameters).  \n",
    "        - 'params' : dict  \n",
    "          Best parameters found by GridSearchCV, or the model's parameters if no tuning.  \n",
    "    \"\"\"\n",
    "    \n",
    "    if grid:\n",
    "        # Perform grid search with cross-validation (3-fold, scoring by R²)\n",
    "        clf = GridSearchCV(model, grid, cv=3, scoring='r2', n_jobs=-1)\n",
    "        clf.fit(X_train, y_train)\n",
    "        best_model = clf.best_estimator_   # Best model after tuning\n",
    "        best_params = clf.best_params_     # Best hyperparameters\n",
    "    else:\n",
    "        # If no grid provided, just fit the base model\n",
    "        model.fit(X_train, y_train)\n",
    "        best_model = model\n",
    "        best_params = model.get_params()\n",
    "\n",
    "    # Predict on the test set\n",
    "    y_pred = best_model.predict(X_test)\n",
    "\n",
    "    # Compute evaluation metrics\n",
    "    mae = mean_absolute_error(y_test, y_pred)   # Mean Absolute Error\n",
    "    mse = mean_squared_error(y_test, y_pred)    # Mean Squared Error\n",
    "    rmse = np.sqrt(mse)                         # Root Mean Squared Error\n",
    "    r2 = r2_score(y_test, y_pred)               # Coefficient of Determination (R²)\n",
    "\n",
    "    # Return results in a structured dictionary\n",
    "    return {\n",
    "        'mae': mae,\n",
    "        'mse': mse,\n",
    "        'rmse': rmse,\n",
    "        'r2': r2,\n",
    "        'model': best_model,\n",
    "        'params': best_params\n",
    "    }\n",
    "\n",
    "# Confirm MLflow tracking URI is set correctly\n",
    "print(\"MLflow tracking URI:\", mlflow_tracking_uri)"
   ]
  },
  {
   "cell_type": "markdown",
   "id": "e9c090cd",
   "metadata": {},
   "source": [
    "<a id=\"step-9-train-compare-and-log-models\"></a>\n",
    "### **Step 9: Train, compare, and log models**\n",
    "\n",
    "Loop through the model zoo:\n",
    "- Train/evaluate each (with grid search where applicable)  \n",
    "- Collect metrics in `results`  \n",
    "- If MLflow is configured, **log params, metrics, and the fitted model** (nested runs per model)\n",
    "\n",
    "This yields a like-for-like comparison across algorithms."
   ]
  },
  {
   "cell_type": "code",
   "execution_count": 9,
   "id": "ff2ddc60",
   "metadata": {},
   "outputs": [
    {
     "name": "stderr",
     "output_type": "stream",
     "text": [
      "INFO:root:Training LinearRegression...\n",
      "2025/10/03 18:59:54 WARNING mlflow.utils.environment: Failed to resolve installed pip version. ``pip`` will be added to conda.yaml environment spec without a version specifier.\n",
      "2025/10/03 18:59:54 WARNING mlflow.models.model: Model logged without a signature and input example. Please set `input_example` parameter when logging the model to auto infer the model signature.\n",
      "INFO:root:Training RandomForest...\n"
     ]
    },
    {
     "name": "stdout",
     "output_type": "stream",
     "text": [
      "LinearRegression R2: 0.9954, RMSE: 17351.46\n",
      "🏃 View run LinearRegression at: http://127.0.0.1:5555/#/experiments/1/runs/6802fbad4c2c4502a4f76d2cd095ea69\n",
      "🧪 View experiment at: http://127.0.0.1:5555/#/experiments/1\n"
     ]
    },
    {
     "name": "stderr",
     "output_type": "stream",
     "text": [
      "2025/10/03 19:00:32 WARNING mlflow.utils.environment: Failed to resolve installed pip version. ``pip`` will be added to conda.yaml environment spec without a version specifier.\n",
      "2025/10/03 19:00:32 WARNING mlflow.models.model: Model logged without a signature and input example. Please set `input_example` parameter when logging the model to auto infer the model signature.\n",
      "INFO:root:Training GradientBoosting...\n"
     ]
    },
    {
     "name": "stdout",
     "output_type": "stream",
     "text": [
      "RandomForest R2: 0.9873, RMSE: 28701.60\n",
      "🏃 View run RandomForest at: http://127.0.0.1:5555/#/experiments/1/runs/153222d6280a44d8a56dcab476f7affe\n",
      "🧪 View experiment at: http://127.0.0.1:5555/#/experiments/1\n"
     ]
    },
    {
     "name": "stderr",
     "output_type": "stream",
     "text": [
      "2025/10/03 19:00:48 WARNING mlflow.utils.environment: Failed to resolve installed pip version. ``pip`` will be added to conda.yaml environment spec without a version specifier.\n",
      "2025/10/03 19:00:48 WARNING mlflow.models.model: Model logged without a signature and input example. Please set `input_example` parameter when logging the model to auto infer the model signature.\n",
      "INFO:root:Training XGBoost...\n"
     ]
    },
    {
     "name": "stdout",
     "output_type": "stream",
     "text": [
      "GradientBoosting R2: 0.9964, RMSE: 15307.33\n",
      "🏃 View run GradientBoosting at: http://127.0.0.1:5555/#/experiments/1/runs/4efc96ff4ee04895bb4a405571f383af\n",
      "🧪 View experiment at: http://127.0.0.1:5555/#/experiments/1\n"
     ]
    },
    {
     "name": "stderr",
     "output_type": "stream",
     "text": [
      "2025/10/03 19:00:59 WARNING mlflow.utils.environment: Failed to resolve installed pip version. ``pip`` will be added to conda.yaml environment spec without a version specifier.\n",
      "2025/10/03 19:00:59 WARNING mlflow.models.model: Model logged without a signature and input example. Please set `input_example` parameter when logging the model to auto infer the model signature.\n"
     ]
    },
    {
     "name": "stdout",
     "output_type": "stream",
     "text": [
      "XGBoost R2: 0.9629, RMSE: 49089.74\n",
      "🏃 View run XGBoost at: http://127.0.0.1:5555/#/experiments/1/runs/0bfc1cb1779042d2815ba6d9802411b0\n",
      "🧪 View experiment at: http://127.0.0.1:5555/#/experiments/1\n",
      "🏃 View run model_comparison at: http://127.0.0.1:5555/#/experiments/1/runs/37413a291f2f4d75bd8452bd666b1192\n",
      "🧪 View experiment at: http://127.0.0.1:5555/#/experiments/1\n"
     ]
    }
   ],
   "source": [
    "# -------------------------------------------------------------\n",
    "# Step 9: Train, compare, and log models\n",
    "# -------------------------------------------------------------\n",
    "\n",
    "# Dictionary to hold evaluation results for each model\n",
    "results = {}\n",
    "\n",
    "# Start a parent MLflow run for the overall model comparison\n",
    "with mlflow.start_run(run_name=\"model_comparison\") if mlflow_tracking_uri else nullcontext():\n",
    "    \n",
    "    # Loop through each candidate model\n",
    "    for name, model in models.items():\n",
    "        logger.info(f\"Training {name}...\")\n",
    "        \n",
    "        # Start a nested MLflow run for this specific model (if tracking is enabled)\n",
    "        with mlflow.start_run(run_name=name, nested=True) if mlflow_tracking_uri else nullcontext():\n",
    "            \n",
    "            # Train and evaluate the model (with GridSearchCV if applicable)\n",
    "            evaluation = evaluate_model_with_gridsearch(\n",
    "                name, model, model_grids[name], X_train, y_train, X_test, y_test\n",
    "            )\n",
    "            \n",
    "            # Store results in the dictionary\n",
    "            results[name] = evaluation\n",
    "\n",
    "            # Log parameters, metrics, and model to MLflow if tracking is active\n",
    "            if mlflow_tracking_uri:\n",
    "                mlflow.log_params(evaluation['params'])\n",
    "                mlflow.log_metrics({\n",
    "                    'mae': evaluation['mae'],   # Mean Absolute Error\n",
    "                    'mse': evaluation['mse'],   # Mean Squared Error\n",
    "                    'rmse': evaluation['rmse'], # Root Mean Squared Error\n",
    "                    'r2': evaluation['r2']      # R² Score\n",
    "                })\n",
    "                mlflow.sklearn.log_model(\n",
    "                    evaluation['model'],\n",
    "                    name=name.lower().replace(\" \", \"_\")  # Save with lowercase name\n",
    "                )\n",
    "            \n",
    "            # Print quick summary of performance for reference\n",
    "            print(f\"{name} R2: {evaluation['r2']:.4f}, RMSE: {evaluation['rmse']:.2f}\")\n"
   ]
  },
  {
   "cell_type": "markdown",
   "id": "cd501319",
   "metadata": {},
   "source": [
    "<a id=\"step-10-visualise-model-metrics\"></a>\n",
    "### **Step 10: Visualise model metrics**\n",
    "\n",
    "Bar plots to compare models by metric (`R²`, `RMSE`, `MAE`), aiding quick identification of the best-performing approach."
   ]
  },
  {
   "cell_type": "code",
   "execution_count": 10,
   "id": "24d6d8bf",
   "metadata": {},
   "outputs": [
    {
     "data": {
      "image/png": "[encoded data removed]",
      "text/plain": [
       "<Figure size 1000x600 with 1 Axes>"
      ]
     },
     "metadata": {},
     "output_type": "display_data"
    },
    {
     "data": {
      "image/png": "[encoded data removed]",
      "text/plain": [
       "<Figure size 1000x600 with 1 Axes>"
      ]
     },
     "metadata": {},
     "output_type": "display_data"
    },
    {
     "data": {
      "image/png": "[encoded data removed]",
      "text/plain": [
       "<Figure size 1000x600 with 1 Axes>"
      ]
     },
     "metadata": {},
     "output_type": "display_data"
    }
   ],
   "source": [
    "# -------------------------------------------------------------\n",
    "# Step 10: Visualise model metrics\n",
    "# -------------------------------------------------------------\n",
    "\n",
    "def plot_model_metrics(results, metric='r2'):\n",
    "    \"\"\"\n",
    "    Plot a bar chart comparing model performance on a given metric.\n",
    "    Metrics can be 'r2', 'rmse', 'mae', or 'mse'.\n",
    "    \"\"\"\n",
    "\n",
    "    # Extract model names and their corresponding metric values\n",
    "    names = list(results.keys())\n",
    "    values = [results[name][metric] for name in names]\n",
    "\n",
    "    # Create a bar chart with black outlines around bars\n",
    "    plt.figure(figsize=(10, 6))\n",
    "    plt.bar(names, values, edgecolor='black', linewidth=1.2)\n",
    "\n",
    "    # Add labels, title, and grid for readability\n",
    "    plt.title(f'Model Comparison by {metric.upper()}')\n",
    "    plt.xlabel('Model')\n",
    "    plt.ylabel(metric.upper())\n",
    "    plt.grid(True, linestyle='--', alpha=0.7)\n",
    "\n",
    "    # Display the plot\n",
    "    plt.show()\n",
    "\n",
    "# Example usage of the visualisation function:\n",
    "plot_model_metrics(results, metric='r2')   # Compare by R²\n",
    "plot_model_metrics(results, metric='rmse') # Compare by RMSE\n",
    "plot_model_metrics(results, metric='mae')  # Compare by MAE"
   ]
  },
  {
   "cell_type": "markdown",
   "id": "0ea9fb3a",
   "metadata": {},
   "source": [
    "<a id=\"step-11-select-best-model-and-save-config\"></a>\n",
    "### **Step 11: Select best model and save config**\n",
    "\n",
    "Pick the **best model** by highest **R²**, print a summary, then write a **YAML config** to `../configs/model_config.yaml` including:\n",
    "- Best model name and parameters  \n",
    "- Metrics (R², MAE, RMSE)  \n",
    "- Target variable  \n",
    "- The **RFE-selected feature set** (`selected_features_dict`)  \n",
    "\n",
    "This config can drive downstream inference or deployment steps."
   ]
  },
  {
   "cell_type": "code",
   "execution_count": 11,
   "id": "786b22ec",
   "metadata": {},
   "outputs": [
    {
     "name": "stdout",
     "output_type": "stream",
     "text": [
      "🏆 Best Model: GradientBoosting\n",
      "   R² Score: 0.9964\n",
      "   MAE: 11363.09\n",
      "   RMSE: 15307.33\n",
      "✅ Saved model config to ../configs/model_config.yaml\n"
     ]
    }
   ],
   "source": [
    "# -------------------------------------------------------------\n",
    "# Step 11: Select best model and save config\n",
    "# -------------------------------------------------------------\n",
    "\n",
    "# Identify the best model by highest R² score\n",
    "best_model_name = max(results, key=lambda x: results[x]['r2'])\n",
    "best_model = results[best_model_name]['model']\n",
    "best_params = best_model.get_params()\n",
    "\n",
    "# Extract key performance metrics\n",
    "best_r2 = float(results[best_model_name]['r2'])\n",
    "best_mae = float(results[best_model_name]['mae'])\n",
    "best_rmse = float(results[best_model_name]['rmse'])\n",
    "\n",
    "# Print a summary of the best model’s performance\n",
    "print(f\"🏆 Best Model: {best_model_name}\")\n",
    "print(f\"   R² Score: {best_r2:.4f}\")\n",
    "print(f\"   MAE: {best_mae:.2f}\")\n",
    "print(f\"   RMSE: {best_rmse:.2f}\")\n",
    "\n",
    "# Build configuration dictionary to save model metadata\n",
    "model_config = {\n",
    "    'model': {\n",
    "        'name': 'house_price_model',            # Project-level model identifier\n",
    "        'best_model': best_model_name,          # Best performing algorithm\n",
    "        'parameters': best_params,              # Best hyperparameters\n",
    "        'r2_score': best_r2,                    # Performance metrics\n",
    "        'mae': best_mae,\n",
    "        'target_variable': 'price',             # Target variable name\n",
    "        'feature_sets': selected_features_dict  # Features chosen by RFE\n",
    "    }\n",
    "}\n",
    "\n",
    "# Ensure configs directory exists and save as YAML file\n",
    "config_path = '../configs/model_config.yaml'\n",
    "os.makedirs(os.path.dirname(config_path), exist_ok=True)\n",
    "\n",
    "with open(config_path, 'w') as f:\n",
    "    yaml.dump(model_config, f)\n",
    "\n",
    "print(f\"✅ Saved model config to {config_path}\")"
   ]
  }
 ],
 "metadata": {
  "kernelspec": {
   "display_name": "MLOps-House-Price-Prediction",
   "language": "python",
   "name": "python3"
  },
  "language_info": {
   "codemirror_mode": {
    "name": "ipython",
    "version": 3
   },
   "file_extension": ".py",
   "mimetype": "text/x-python",
   "name": "python",
   "nbconvert_exporter": "python",
   "pygments_lexer": "ipython3",
   "version": "3.13.5"
  }
 },
 "nbformat": 4,
 "nbformat_minor": 5
}
