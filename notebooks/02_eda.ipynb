{
 "cells": [
  {
   "cell_type": "markdown",
   "id": "f1ff5a27",
   "metadata": {},
   "source": [
    "## **Exploratory Data Analysis (EDA)**\n",
    "\n",
    "### **Table of Contents**\n",
    "- [Introduction](#introduction)\n",
    "- [Step 1: Import required libraries](#step-1-import-required-libraries)\n",
    "- [Step 2: Load the dataset](#step-2-load-the-dataset)\n",
    "- [Step 3: Check for missing values](#step-3-check-for-missing-values)\n",
    "- [Step 4: Generate descriptive statistics](#step-4-generate-descriptive-statistics)\n",
    "- [Step 5: Visualize house price distribution](#step-5-visualize-house-price-distribution)\n",
    "- [Step 6: Explore feature correlations](#step-6-explore-feature-correlations)\n",
    "- [Step 7: Scatter plot — Square Footage vs Price](#step-7-scatter-plot--square-footage-vs-price)\n",
    "- [Step 8: Distribution of houses by location](#step-8-distribution-of-houses-by-location)\n",
    "- [Step 9: Average house price by bedroom count](#step-9-average-house-price-by-bedroom-count)\n",
    "\n",
    "\n",
    "<a id=\"introduction\"></a>\n",
    "### **Introduction**\n",
    "\n",
    "This notebook performs **exploratory data analysis (EDA)** on the house price dataset.  \n",
    "The goal is to understand the data distribution, detect patterns, and uncover potential issues before feature engineering and modelling.\n",
    "\n",
    "\n",
    "<a id=\"step-1-import-required-libraries\"></a>\n",
    "### **Step 1: Import required libraries**\n",
    "\n",
    "This step imports essential Python libraries:\n",
    "- `pandas` and `numpy` for data manipulation.  \n",
    "- `matplotlib` and `seaborn` for visualisation.  "
   ]
  },
  {
   "cell_type": "code",
   "execution_count": null,
   "id": "cb5070ea",
   "metadata": {},
   "outputs": [],
   "source": [
    "# -------------------------------------------------------------\n",
    "# Step 1: Import required libraries\n",
    "# -------------------------------------------------------------\n",
    "import pandas as pd\n",
    "import numpy as np\n",
    "import matplotlib.pyplot as plt\n",
    "import seaborn as sns"
   ]
  },
  {
   "cell_type": "markdown",
   "id": "d63a172f",
   "metadata": {},
   "source": [
    "<a id=\"step-2-load-the-dataset\"></a>\n",
    "### **Step 2: Load the dataset**\n",
    "\n",
    "The dataset is loaded from `../data/raw/house_data.csv`.  \n",
    "Key actions:\n",
    "- Print dataset shape (rows, columns).  \n",
    "- Display schema and data types for each column. "
   ]
  },
  {
   "cell_type": "code",
   "execution_count": null,
   "id": "0eed220c",
   "metadata": {},
   "outputs": [],
   "source": [
    "# -------------------------------------------------------------\n",
    "# Step 2: Load the dataset\n",
    "# -------------------------------------------------------------\n",
    "df = pd.read_csv('../data/raw/house_data.csv')\n",
    "\n",
    "# ℹ️ Display basic information about the dataset\n",
    "print(f\"📐 Dataset shape (rows, columns): {df.shape}\")\n",
    "print(\"\\n📊 Dataset Info:\")\n",
    "print(df.info())"
   ]
  },
  {
   "cell_type": "markdown",
   "id": "feed274a",
   "metadata": {},
   "source": [
    "<a id=\"step-3-check-for-missing-values\"></a>\n",
    "### **Step 3: Check for missing values**\n",
    "\n",
    "Check for missing values across all columns.  \n",
    "This helps identify data quality issues and informs preprocessing strategies. "
   ]
  },
  {
   "cell_type": "code",
   "execution_count": null,
   "id": "c6e3362f",
   "metadata": {},
   "outputs": [],
   "source": [
    "# -------------------------------------------------------------\n",
    "# Step 3: Check for missing values\n",
    "# -------------------------------------------------------------\n",
    "print(\"\\n🔍 Missing values per column:\")\n",
    "print(df.isnull().sum())"
   ]
  },
  {
   "cell_type": "markdown",
   "id": "a357d791",
   "metadata": {},
   "source": [
    "<a id=\"step-4-generate-descriptive-statistics\"></a>\n",
    "### **Step 4: Generate descriptive statistics**\n",
    "\n",
    "Produce summary statistics such as mean, standard deviation, min, and max for numeric columns.  \n",
    "Useful for spotting unusual ranges or anomalies. "
   ]
  },
  {
   "cell_type": "code",
   "execution_count": null,
   "id": "78a58971",
   "metadata": {},
   "outputs": [],
   "source": [
    "# -------------------------------------------------------------\n",
    "# Step 4: Generate descriptive statistics\n",
    "# -------------------------------------------------------------\n",
    "print(\"\\n📋 Statistical Summary:\")\n",
    "print(df.describe())"
   ]
  },
  {
   "cell_type": "markdown",
   "id": "f1a32966",
   "metadata": {},
   "source": [
    "<a id=\"step-5-visualize-house-price-distribution\"></a>\n",
    "### **Step 5: Visualize house price distribution**\n",
    "\n",
    "Plot the distribution of house prices with a histogram and KDE curve.  \n",
    "This highlights:\n",
    "- Overall distribution shape.  \n",
    "- Skewness or presence of outliers."
   ]
  },
  {
   "cell_type": "code",
   "execution_count": null,
   "id": "66c30c3e",
   "metadata": {},
   "outputs": [],
   "source": [
    "# -------------------------------------------------------------\n",
    "# Step 5: Visualize house price distribution\n",
    "# -------------------------------------------------------------\n",
    "plt.figure(figsize=(10, 6))\n",
    "sns.histplot(df['price'], kde=True)\n",
    "plt.title('House Price Distribution')\n",
    "plt.xlabel('Price')\n",
    "plt.ylabel('Frequency')\n",
    "plt.show()\n",
    "\n",
    "print(\"📊 Plotted house price distribution.\")"
   ]
  },
  {
   "cell_type": "markdown",
   "id": "48f5f1bd",
   "metadata": {},
   "source": [
    "<a id=\"step-6-explore-feature-correlations\"></a>\n",
    "### **Step 6: Explore feature correlations**\n",
    "\n",
    "Generate a correlation heatmap to examine relationships between numeric features.  \n",
    "This provides insight into which features may be strongly associated with house prices."
   ]
  },
  {
   "cell_type": "code",
   "execution_count": null,
   "id": "8bb040b7",
   "metadata": {},
   "outputs": [],
   "source": [
    "# -------------------------------------------------------------\n",
    "# Step 6: Explore feature correlations (numeric only)\n",
    "# -------------------------------------------------------------\n",
    "plt.figure(figsize=(12, 8))\n",
    "\n",
    "num_df = df.select_dtypes(include=\"number\")        # keep numeric columns only\n",
    "corr = num_df.corr(numeric_only=True)              # Pearson by default\n",
    "\n",
    "sns.heatmap(corr, annot=True, cmap=\"coolwarm\", fmt=\".2f\")\n",
    "plt.title(\"Feature Correlation Matrix (numeric only)\")\n",
    "plt.show()\n",
    "\n",
    "print(\"📈 Displayed feature correlation heatmap (numeric only).\")\n"
   ]
  },
  {
   "cell_type": "markdown",
   "id": "4ac00bdf",
   "metadata": {},
   "source": [
    "<a id=\"step-7-scatter-plot--square-footage-vs-price\"></a>\n",
    "### **Step 7: Scatter plot — Square Footage vs Price**\n",
    "\n",
    "Plot a scatter chart comparing square footage (`sqft`) against `price`.  \n",
    "This helps visualise whether larger homes generally command higher prices. "
   ]
  },
  {
   "cell_type": "code",
   "execution_count": null,
   "id": "a3087b77",
   "metadata": {},
   "outputs": [],
   "source": [
    "# -------------------------------------------------------------\n",
    "# Step 7: Scatter plot — Square Footage vs Price\n",
    "# -------------------------------------------------------------\n",
    "plt.figure(figsize=(10, 6))\n",
    "sns.scatterplot(x='sqft', y='price', data=df)\n",
    "plt.title('Price vs Square Footage')\n",
    "plt.xlabel('Square Footage')\n",
    "plt.ylabel('Price')\n",
    "plt.show()\n",
    "\n",
    "print(\"📐 Analyzed relation between square footage and price.\")\n"
   ]
  },
  {
   "cell_type": "markdown",
   "id": "6ffe669a",
   "metadata": {},
   "source": [
    "<a id=\"step-8-distribution-of-houses-by-location\"></a>\n",
    "### **Step 8: Distribution of houses by location**\n",
    "\n",
    "Create a bar chart showing the number of houses in each location.  \n",
    "This reveals how evenly or unevenly properties are distributed across regions. "
   ]
  },
  {
   "cell_type": "code",
   "execution_count": null,
   "id": "7ab8cbe7",
   "metadata": {},
   "outputs": [],
   "source": [
    "# -------------------------------------------------------------\n",
    "# Step 8: Distribution of houses by location\n",
    "# -------------------------------------------------------------\n",
    "plt.figure(figsize=(10, 6))\n",
    "sns.countplot(x='location', data=df)\n",
    "plt.title('Houses by Location')\n",
    "plt.xlabel('Location')\n",
    "plt.ylabel('Count')\n",
    "plt.xticks(rotation=45)  # Rotate x-axis labels for better readability\n",
    "plt.show()\n",
    "\n",
    "print(\"📍 Visualized distribution of houses by location.\")"
   ]
  },
  {
   "cell_type": "markdown",
   "id": "4cac5367",
   "metadata": {},
   "source": [
    "<a id=\"step-9-average-house-price-by-bedroom-count\"></a>\n",
    "### **Step 9: Average house price by bedroom count**\n",
    "\n",
    "Display a bar plot of the average house price for each bedroom count.  \n",
    "This helps assess whether more bedrooms typically correlate with higher prices.  "
   ]
  },
  {
   "cell_type": "code",
   "execution_count": null,
   "id": "b11c08d5",
   "metadata": {},
   "outputs": [],
   "source": [
    "# -------------------------------------------------------------\n",
    "# Step 9: Average house price by bedroom count\n",
    "# -------------------------------------------------------------\n",
    "plt.figure(figsize=(10, 6))\n",
    "sns.barplot(x='bedrooms', y='price', data=df)\n",
    "plt.title('Average Price by Number of Bedrooms')\n",
    "plt.xlabel('Number of Bedrooms')\n",
    "plt.ylabel('Average Price')\n",
    "plt.show()\n",
    "\n",
    "print(\"🛏️ Compared average prices based on bedroom count.\")"
   ]
  }
 ],
 "metadata": {
  "kernelspec": {
   "display_name": ".venv",
   "language": "python",
   "name": "python3"
  },
  "language_info": {
   "codemirror_mode": {
    "name": "ipython",
    "version": 3
   },
   "file_extension": ".py",
   "mimetype": "text/x-python",
   "name": "python",
   "nbconvert_exporter": "python",
   "pygments_lexer": "ipython3",
   "version": "3.11.9"
  }
 },
 "nbformat": 4,
 "nbformat_minor": 5
}
